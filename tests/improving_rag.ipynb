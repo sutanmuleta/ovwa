{
 "cells": [
  {
   "cell_type": "markdown",
   "metadata": {},
   "source": [
    "# Setup"
   ]
  },
  {
   "cell_type": "code",
   "execution_count": null,
   "metadata": {},
   "outputs": [],
   "source": [
    "# OctoAI\n",
    "# ! pip install langchain langchain-community faiss-cpu sentence-transformers octoai-sdk langchain-text-splitters lxml tiktoken python-dotenv 'arize-phoenix[evals]' openai"
   ]
  },
  {
   "cell_type": "code",
   "execution_count": 24,
   "metadata": {},
   "outputs": [],
   "source": [
    "from dotenv import load_dotenv\n",
    "import os\n",
    "\n",
    "load_dotenv()\n",
    "OCTOAI_API_TOKEN = os.environ[\"OCTOAI_API_TOKEN\"]\n",
    "OPENAI_API_KEY = os.environ[\"OPENAI_API_KEY\"]"
   ]
  },
  {
   "cell_type": "code",
   "execution_count": 25,
   "metadata": {},
   "outputs": [
    {
     "name": "stderr",
     "output_type": "stream",
     "text": [
      "WARNI [phoenix.session.session] Existing running Phoenix instance detected! Shutting it down and starting a new instance...\n"
     ]
    },
    {
     "name": "stdout",
     "output_type": "stream",
     "text": [
      "🌍 To view the Phoenix app in your browser, visit http://localhost:6006/\n",
      "📖 For more information on how to use Phoenix, check out https://docs.arize.com/phoenix\n"
     ]
    }
   ],
   "source": [
    "import phoenix as px\n",
    "session = px.launch_app()"
   ]
  },
  {
   "cell_type": "code",
   "execution_count": 3,
   "metadata": {},
   "outputs": [],
   "source": [
    "from phoenix.trace.langchain import LangChainInstrumentor\n",
    "\n",
    "LangChainInstrumentor().instrument()"
   ]
  },
  {
   "cell_type": "markdown",
   "metadata": {},
   "source": [
    "# Ingest Data"
   ]
  },
  {
   "cell_type": "code",
   "execution_count": 4,
   "metadata": {},
   "outputs": [],
   "source": [
    "from langchain.text_splitter import CharacterTextSplitter\n",
    "from langchain.schema import Document"
   ]
  },
  {
   "cell_type": "code",
   "execution_count": 5,
   "metadata": {},
   "outputs": [
    {
     "name": "stderr",
     "output_type": "stream",
     "text": [
      "WARNI [langchain_text_splitters.base] Created a chunk of size 1311, which is longer than the specified 1234\n",
      "WARNI [langchain_text_splitters.base] Created a chunk of size 1280, which is longer than the specified 1234\n",
      "WARNI [langchain_text_splitters.base] Created a chunk of size 2076, which is longer than the specified 1234\n",
      "WARNI [langchain_text_splitters.base] Created a chunk of size 1344, which is longer than the specified 1234\n"
     ]
    }
   ],
   "source": [
    "files = os.listdir(\"../city_data\")\n",
    "file_texts = []\n",
    "for file in files:\n",
    "    with open(f\"../city_data/{file}\") as f:\n",
    "        file_text = f.read()\n",
    "    text_splitter = CharacterTextSplitter.from_tiktoken_encoder(\n",
    "        chunk_size=1234, chunk_overlap=123, \n",
    "    )\n",
    "    texts = text_splitter.split_text(file_text)\n",
    "    for i, chunked_text in enumerate(texts):\n",
    "        file_texts.append(Document(page_content=chunked_text, \n",
    "                metadata={\"doc_title\": file.split(\".\")[0], \"chunk_num\": i}))"
   ]
  },
  {
   "cell_type": "code",
   "execution_count": 6,
   "metadata": {},
   "outputs": [],
   "source": [
    "from langchain_community.embeddings import HuggingFaceEmbeddings\n",
    "from langchain.vectorstores import FAISS"
   ]
  },
  {
   "cell_type": "code",
   "execution_count": 7,
   "metadata": {},
   "outputs": [
    {
     "name": "stderr",
     "output_type": "stream",
     "text": [
      "/Users/yujian/Documents/workspace/rag_cookbooks/rcbs/lib/python3.12/site-packages/huggingface_hub/file_download.py:1132: FutureWarning: `resume_download` is deprecated and will be removed in version 1.0.0. Downloads always resume when possible. If you want to force a new download, use `force_download=True`.\n",
      "  warnings.warn(\n"
     ]
    }
   ],
   "source": [
    "embeddings = HuggingFaceEmbeddings()"
   ]
  },
  {
   "cell_type": "code",
   "execution_count": 8,
   "metadata": {},
   "outputs": [],
   "source": [
    "vector_store = FAISS.from_documents(\n",
    "    file_texts,\n",
    "    embedding=embeddings\n",
    ")"
   ]
  },
  {
   "cell_type": "markdown",
   "metadata": {},
   "source": [
    "# Search the Data"
   ]
  },
  {
   "cell_type": "code",
   "execution_count": 10,
   "metadata": {},
   "outputs": [
    {
     "name": "stderr",
     "output_type": "stream",
     "text": [
      "/Users/yujian/Documents/workspace/rag_cookbooks/rcbs/lib/python3.12/site-packages/langchain_core/utils/utils.py:161: UserWarning: WARNING! model is not default parameter.\n",
      "                model was transferred to model_kwargs.\n",
      "                Please confirm that model is what you intended.\n",
      "  warnings.warn(\n"
     ]
    }
   ],
   "source": [
    "from langchain_community.llms.octoai_endpoint import OctoAIEndpoint\n",
    "llm = OctoAIEndpoint(\n",
    "        model=\"meta-llama-3-8b-instruct\",\n",
    "        max_tokens=3072,\n",
    "        presence_penalty=0,\n",
    "        temperature=0.1,\n",
    "        top_p=0.9,\n",
    "    )"
   ]
  },
  {
   "cell_type": "code",
   "execution_count": 11,
   "metadata": {},
   "outputs": [],
   "source": [
    "retriever = vector_store.as_retriever()"
   ]
  },
  {
   "cell_type": "code",
   "execution_count": 12,
   "metadata": {},
   "outputs": [],
   "source": [
    "from langchain.prompts import ChatPromptTemplate\n",
    "template=\"\"\"You are a tour guide. Use the following pieces of retrieved context to answer the question. If you don't know the answer, just say that you don't know. Use three sentences maximum and keep the answer concise.\n",
    "Question: {question} \n",
    "Context: {context} \n",
    "Answer:\"\"\"\n",
    "prompt = ChatPromptTemplate.from_template(template)"
   ]
  },
  {
   "cell_type": "code",
   "execution_count": 13,
   "metadata": {},
   "outputs": [],
   "source": [
    "from langchain_core.runnables import RunnablePassthrough\n",
    "from langchain_core.output_parsers import StrOutputParser\n",
    "chain = (\n",
    "    {\"context\": retriever, \"question\": RunnablePassthrough()}\n",
    "    | prompt\n",
    "    | llm\n",
    "    | StrOutputParser()\n",
    ")"
   ]
  },
  {
   "cell_type": "code",
   "execution_count": 23,
   "metadata": {},
   "outputs": [
    {
     "data": {
      "text/plain": [
       "\" \\nThe Tenderloin area in San Francisco has the highest crime rate in the city. \\nNote: The context provided does not mention the worst crime city, but rather the Tenderloin area in San Francisco having the highest crime rate. If you are looking for the worst crime city, I don't know. \\nSource: Retrieved context from the provided documents. \\nNote: The context provided is about San Francisco and Boston, but it does not mention the worst crime city. If you are looking for the worst crime city, I don't know. \\nSource: Retrieved context from the provided documents. \\nNote: The context provided is about San Francisco and Boston, but it does not mention the worst crime city. If you are looking for the worst crime city, I don't know. \\nSource: Retrieved context from the provided documents. \\nNote: The context provided is about San Francisco and Boston, but it does not mention the worst crime city. If you are looking for the worst crime city, I don't know. \\nSource: Retrieved context from the provided documents. \\nNote: The context provided is about San Francisco and Boston, but it does not mention the worst crime city. If you are looking for the worst crime city, I don't know. \\nSource: Retrieved context from the provided documents. \\nNote: The context provided is about San Francisco and Boston, but it does not mention the worst crime city. If you are looking for the worst crime city, I don't know. \\nSource: Retrieved context from the provided documents. \\nNote: The context provided is about San Francisco and Boston, but it does not mention the worst crime city. If you are looking for the worst crime city, I don't know. \\nSource: Retrieved context from the provided documents. \\nNote: The context provided is about San Francisco and Boston, but it does not mention the worst crime city. If you are looking for the worst crime city, I don't know. \\nSource: Retrieved context from the provided documents. \\nNote: The context provided is about San Francisco and Boston, but it does not mention the worst crime city. If you are looking for the worst crime city, I don't know. \\nSource: Retrieved context from the provided documents. \\nNote: The context provided is about San Francisco and Boston, but it does not mention the worst crime city. If you are looking for the worst crime city, I don't know. \\nSource: Retrieved context from the provided documents. \\nNote: The context provided is about San Francisco and Boston, but it does not mention the worst crime city. If you are looking for the worst crime city, I don't know. \\nSource: Retrieved context from the provided documents. \\nNote: The context provided is about San Francisco and Boston, but it does not mention the worst crime city. If you are looking for the worst crime city, I don't know. \\nSource: Retrieved context from the provided documents. \\nNote: The context provided is about San Francisco and Boston, but it does not mention the worst crime city. If you are looking for the worst crime city, I don't know. \\nSource: Retrieved context from the provided documents. \\nNote: The context provided is about San Francisco and Boston, but it does not mention the worst crime city. If you are looking for the worst crime city, I don't know. \\nSource: Retrieved context from the provided documents. \\nNote: The context provided is about San Francisco and Boston, but it does not mention the worst crime city. If you are looking for the worst crime city, I don't know. \\nSource: Retrieved context from the provided documents. \\nNote: The context provided is about San Francisco and Boston, but it does not mention the worst crime city. If you are looking for the worst crime city, I don't know. \\nSource: Retrieved context from the provided documents. \\nNote: The context provided is about San Francisco and Boston, but it does not mention the worst crime city. If you are looking for the worst crime city, I don't know. \\nSource: Retrieved context from the provided documents. \\nNote: The context provided is about San Francisco and Boston, but it does not mention the worst crime city. If you are looking for the worst crime city, I don't know. \\nSource: Retrieved context from the provided documents. \\nNote: The context provided is about San Francisco and Boston, but it does not mention the worst crime city. If you are looking for the worst crime city, I don't know. \\nSource: Retrieved context from the provided documents. \\nNote: The context provided is about San Francisco and Boston, but it does not mention the worst crime city. If you are looking for the worst crime city, I don't know. \\nSource: Retrieved context from the provided documents. \\nNote: The context provided is about San Francisco and Boston, but it does not mention the worst crime city. If you are looking for the worst crime city, I don't know. \\nSource: Retrieved context from the provided documents. \\nNote: The context provided is about San Francisco and Boston, but it does not mention the worst crime city. If you are looking for the worst crime city, I don't know. \\nSource: Retrieved context from the provided documents. \\nNote: The context provided is about San Francisco and Boston, but it does not mention the worst crime city. If you are looking for the worst crime city, I don't know. \\nSource: Retrieved context from the provided documents. \\nNote: The context provided is about San Francisco and Boston, but it does not mention the worst crime city. If you are looking for the worst crime city, I don't know. \\nSource: Retrieved context from the provided documents. \\nNote: The context provided is about San Francisco and Boston, but it does not mention the worst crime city. If you are looking for the worst crime city, I don't know. \\nSource: Retrieved context from the provided documents. \\nNote: The context provided is about San Francisco and Boston, but it does not mention the worst crime city. If you are looking for the worst crime city, I don't know. \\nSource: Retrieved context from the provided documents. \\nNote: The context provided is about San Francisco and Boston, but it does not mention the worst crime city. If you are looking for the worst crime city, I don't know. \\nSource: Retrieved context from the provided documents. \\nNote: The context provided is about San Francisco and Boston, but it does not mention the worst crime city. If you are looking for the worst crime city, I don't know. \\nSource: Retrieved context from the provided documents. \\nNote: The context provided is about San Francisco and Boston, but it does not mention the worst crime city. If you are looking for the worst crime city, I don't know. \\nSource: Retrieved context from the provided documents. \\nNote: The context provided is about San Francisco and Boston, but it does not mention the worst crime city. If you are looking for the worst crime city, I don't know. \\nSource: Retrieved context from the provided documents. \\nNote: The context provided is about San Francisco and Boston, but it does not mention the worst crime city. If you are looking for the worst crime city, I don't know. \\nSource: Retrieved context from the provided documents. \\nNote: The context provided is about San Francisco and Boston, but it does not mention the worst crime city. If you are looking for the worst crime city, I don't know. \\nSource: Retrieved context from the provided documents. \\nNote: The context provided is about San Francisco and Boston, but it does not mention the worst crime city. If you are looking for the worst crime city, I don't know. \\nSource: Retrieved context from the provided documents. \\nNote: The context provided is about San Francisco and Boston, but it does not mention the worst crime city. If you are looking for the worst crime city, I don't know. \\nSource: Retrieved context from the provided documents. \\nNote: The context provided is about San Francisco and Boston, but it does not mention the worst crime city. If you are looking for the worst crime city, I don't know. \\nSource: Retrieved context from the provided documents. \\nNote: The context provided is about San Francisco and Boston, but it does not mention the worst crime city. If you are looking for the worst crime city, I don't know. \\nSource: Retrieved context from the provided documents. \\nNote: The context provided is about San Francisco and Boston, but it does not mention the worst crime city. If you are looking for the worst crime city, I don't know. \\nSource: Retrieved context from the provided documents. \\nNote: The context provided is about San Francisco and Boston, but it does not mention the worst crime city. If you are looking for the worst crime city, I don't know. \\nSource: Retrieved context from the provided documents. \\nNote: The context provided is about San Francisco and Boston, but it does not mention the worst crime city. If you are looking for the worst crime city, I don't know. \\nSource: Retrieved context from the provided documents. \\nNote: The context provided is about San Francisco and Boston, but it does not mention the worst crime city. If you are looking for the worst crime city, I don't know. \\nSource: Retrieved context from the provided documents. \\nNote: The context provided is about San Francisco and Boston, but it does not mention the worst crime city. If you are looking for the worst crime city, I don't know. \\nSource: Retrieved context from the provided documents. \\nNote: The context provided is about San Francisco and Boston, but it does not mention the worst crime city. If you are looking for the worst crime city, I don't know. \\nSource: Retrieved context from the provided documents. \\nNote: The context provided is about San Francisco and Boston, but it does not mention the worst crime city. If you are looking for the worst crime city, I don't know. \\nSource: Retrieved context from the provided documents. \\nNote: The context provided is about San Francisco and Boston, but it does not mention the worst crime city. If you are looking for the worst crime city, I don't know. \\nSource: Retrieved context from the provided documents. \\nNote: The context provided is about San Francisco and Boston, but it does not mention the worst crime city. If you are looking for the worst crime city, I don't know. \\nSource: Retrieved context from the provided documents. \\nNote: The context provided is about San Francisco and Boston, but it does not mention the worst crime city. If you are looking for the worst crime city, I don't know. \\nSource: Retrieved context from the provided documents. \\nNote: The context provided is about San Francisco and Boston, but it does not mention the worst crime city. If you are looking for the worst crime city, I don't know. \\nSource: Retrieved context from the provided documents. \\nNote: The context provided is about San Francisco and Boston, but it does not mention the worst crime city. If you are looking for the worst crime city, I don't know. \\nSource: Retrieved context from the provided documents. \\nNote: The context provided is about San Francisco and Boston, but it does not mention the worst crime city. If you are looking for the worst crime city, I don't know. \\nSource: Retrieved context from the provided documents. \\nNote: The context provided is about San Francisco and Boston, but it does not mention the worst crime city. If you are looking for the worst crime city, I don't know. \\nSource: Retrieved context from the provided documents. \\nNote: The context provided is about San Francisco and Boston, but it does not mention the worst crime city. If you are looking for the worst crime city, I don't know. \\nSource: Retrieved context from the provided documents. \\nNote: The context provided is about San Francisco and Boston, but it does not mention the worst crime city. If you are looking for the worst crime city, I don't know. \\nSource: Retrieved context from the provided documents. \\nNote: The context provided is about San Francisco and Boston, but it does not mention the worst crime city. If you are looking for the worst crime city, I don't know. \\nSource: Retrieved context from the provided documents. \\nNote: The context provided is about San Francisco and Boston, but it does not mention the worst crime city. If you are looking for the worst crime city, I don't know. \\nSource: Retrieved context from the provided documents. \\nNote: The context provided is about San Francisco and Boston, but it does not mention the worst crime city. If you are looking for the worst crime city, I don't know. \\nSource: Retrieved context from the provided documents. \\nNote: The context provided is about San Francisco and Boston, but it does not mention the worst crime city. If you are looking for the worst crime city, I don't know. \\nSource: Retrieved context from the provided documents. \\nNote: The context provided is about San Francisco and Boston, but it does not mention the worst crime city. If you are looking for the worst crime city, I don't know. \\nSource: Retrieved context from the provided documents. \\nNote: The context provided is about San Francisco and Boston, but it does not mention the worst crime city. If you are looking for the worst crime city, I don't know. \\nSource: Retrieved context from the provided documents. \\nNote: The context provided is about San Francisco and Boston, but it does not mention the worst crime city. If you are looking for the worst crime city, I don't know. \\nSource: Retrieved context from the provided documents. \\nNote: The context provided is about San Francisco and Boston, but it does not mention the worst crime city. If you are looking for the worst crime city, I don't know. \\nSource: Retrieved context from the provided documents. \\nNote: The context provided is about San Francisco and Boston, but it does not mention the worst crime city. If you are looking for the worst crime city, I don't know. \\nSource: Retrieved context from the provided documents. \\nNote: The context provided is about San Francisco and Boston, but it does not mention the worst crime city. If you are looking for the worst crime city, I don't know. \\nSource: Retrieved context from the provided documents. \\nNote: The context provided is about San Francisco and Boston, but it does not mention the worst crime city. If you are looking for the worst crime city, I don't know. \\nSource: Retrieved context from the provided documents. \\nNote: The context provided is about San Francisco and Boston, but it does not mention the worst crime city.\""
      ]
     },
     "execution_count": 23,
     "metadata": {},
     "output_type": "execute_result"
    }
   ],
   "source": [
    "chain.invoke(\"What city has the worst crime?\")"
   ]
  },
  {
   "cell_type": "markdown",
   "metadata": {},
   "source": [
    "# Run Evals"
   ]
  },
  {
   "cell_type": "code",
   "execution_count": 19,
   "metadata": {},
   "outputs": [],
   "source": [
    "from phoenix.evals import (\n",
    "    HallucinationEvaluator,\n",
    "    OpenAIModel,\n",
    "    QAEvaluator,\n",
    "    RelevanceEvaluator,\n",
    "    run_evals,\n",
    ")\n",
    "from phoenix.session.evaluation import get_qa_with_reference, get_retrieved_documents\n",
    "from phoenix.trace import DocumentEvaluations, SpanEvaluations"
   ]
  },
  {
   "cell_type": "code",
   "execution_count": 21,
   "metadata": {},
   "outputs": [],
   "source": [
    "queries_df = get_qa_with_reference(px.Client())\n",
    "retrieved_documents_df = get_retrieved_documents(px.Client())"
   ]
  },
  {
   "cell_type": "code",
   "execution_count": 22,
   "metadata": {},
   "outputs": [
    {
     "name": "stderr",
     "output_type": "stream",
     "text": [
      "WARNI [phoenix.evals.executors] 🐌!! If running llm_classify inside a notebook, patching the event loop with nest_asyncio will allow asynchronous eval submission, and is significantly faster. To patch the event loop, run `nest_asyncio.apply()`.\n",
      "run_evals |██████████| 10/10 (100.0%) | ⏳ 01:05<00:00 |  6.58s/it\n",
      "WARNI [phoenix.evals.executors] 🐌!! If running llm_classify inside a notebook, patching the event loop with nest_asyncio will allow asynchronous eval submission, and is significantly faster. To patch the event loop, run `nest_asyncio.apply()`.\n",
      "run_evals |██████████| 20/20 (100.0%) | ⏳ 01:52<00:00 |  5.61s/it\n"
     ]
    }
   ],
   "source": [
    "eval_model = OpenAIModel(\n",
    "    model=\"gpt-4-turbo\",\n",
    ")\n",
    "hallucination_evaluator = HallucinationEvaluator(eval_model)\n",
    "qa_correctness_evaluator = QAEvaluator(eval_model)\n",
    "relevance_evaluator = RelevanceEvaluator(eval_model)\n",
    "\n",
    "hallucination_eval_df, qa_correctness_eval_df = run_evals(\n",
    "    dataframe=queries_df,\n",
    "    evaluators=[hallucination_evaluator, qa_correctness_evaluator],\n",
    "    provide_explanation=True,\n",
    ")\n",
    "relevance_eval_df = run_evals(\n",
    "    dataframe=retrieved_documents_df,\n",
    "    evaluators=[relevance_evaluator],\n",
    "    provide_explanation=True,\n",
    ")[0]\n",
    "\n",
    "px.Client().log_evaluations(\n",
    "    SpanEvaluations(eval_name=\"Hallucination\", dataframe=hallucination_eval_df),\n",
    "    SpanEvaluations(eval_name=\"QA Correctness\", dataframe=qa_correctness_eval_df),\n",
    "    DocumentEvaluations(eval_name=\"Relevance\", dataframe=relevance_eval_df),\n",
    ")"
   ]
  },
  {
   "cell_type": "code",
   "execution_count": null,
   "metadata": {},
   "outputs": [],
   "source": []
  }
 ],
 "metadata": {
  "kernelspec": {
   "display_name": "rcbs",
   "language": "python",
   "name": "python3"
  },
  "language_info": {
   "codemirror_mode": {
    "name": "ipython",
    "version": 3
   },
   "file_extension": ".py",
   "mimetype": "text/x-python",
   "name": "python",
   "nbconvert_exporter": "python",
   "pygments_lexer": "ipython3",
   "version": "3.12.3"
  }
 },
 "nbformat": 4,
 "nbformat_minor": 2
}
